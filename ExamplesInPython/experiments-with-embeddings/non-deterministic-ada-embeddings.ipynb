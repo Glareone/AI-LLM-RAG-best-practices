{
 "cells": [
  {
   "cell_type": "code",
   "id": "initial_id",
   "metadata": {
    "collapsed": true,
    "ExecuteTime": {
     "end_time": "2024-06-14T09:44:53.883499Z",
     "start_time": "2024-06-14T09:44:39.456902Z"
    }
   },
   "source": [
    "import time\n",
    "\n",
    "import numpy as np\n",
    "import openai\n",
    "\n",
    "openai.api_key = \"\"\n",
    "\n",
    "model = 'text-embedding-ada-002'\n"
   ],
   "outputs": [],
   "execution_count": 4
  },
  {
   "metadata": {},
   "cell_type": "code",
   "outputs": [],
   "execution_count": null,
   "source": [
    "def test():\n",
    "    def get_openai_embeddings(texts, model):\n",
    "        result = openai.Embedding.create(\n",
    "            model=model,\n",
    "            input=texts,\n",
    "        )\n",
    "        return result\n",
    "\n",
    "    texts_for_embedding_test = [\n",
    "        \"Amsterdam is renowned for its historic canals, vibrant cultural scene, and museums that house masterpieces of Dutch Golden Age painting.\",\n",
    "        \"Every year, millions of tourists flock to Amsterdam to experience its diverse and tolerant atmosphere, highlighted by picturesque bicycle paths, colorful tulip seasons, and a lively nightlife.\",\n",
    "        \"The city of Amsterdam, with its unique blend of historic charm and cosmopolitan flair, offers an array of experiences from exploring the Anne Frank House to relaxing in the Vondelpark.\",\n",
    "    ]\n",
    "\n",
    "    for current_text in texts_for_embedding_test:\n",
    "        print(current_text)\n",
    "        first_attempt_embedding = get_openai_embeddings(texts=current_text, model=model)\n",
    "        second_attempt_embedding = get_openai_embeddings(texts=current_text, model=model)\n",
    "\n",
    "        first_attempt_embedding_vector = np.array(first_attempt_embedding['data'][0]['embedding'])\n",
    "        second_attempt_embedding_embedding = np.array(second_attempt_embedding['data'][0]['embedding'])\n",
    "\n",
    "        print('Are rounded vectors to 5 decimals equal? ', first_attempt_embedding_vector.round(5) == second_attempt_embedding_embedding.round(5))\n",
    "        print('Maximum ratio of elementwise', (first_attempt_embedding_vector / second_attempt_embedding_embedding).max())\n",
    "        print('Minimum ratio of elementwise', (first_attempt_embedding_vector / second_attempt_embedding_embedding).min())\n",
    "        print('Normalized ratio', ((first_attempt_embedding_vector - second_attempt_embedding_embedding)**2).sum()**0.5 / (first_attempt_embedding_vector**2).sum()**0.5)\n",
    "        print()\n",
    "        time.sleep(1)\n",
    "\n",
    "\n",
    "if __name__ == '__main__':\n",
    "    test()"
   ],
   "id": "649cb5c53ddc5d7"
  }
 ],
 "metadata": {
  "kernelspec": {
   "display_name": "Python 3",
   "language": "python",
   "name": "python3"
  },
  "language_info": {
   "codemirror_mode": {
    "name": "ipython",
    "version": 2
   },
   "file_extension": ".py",
   "mimetype": "text/x-python",
   "name": "python",
   "nbconvert_exporter": "python",
   "pygments_lexer": "ipython2",
   "version": "2.7.6"
  }
 },
 "nbformat": 4,
 "nbformat_minor": 5
}
