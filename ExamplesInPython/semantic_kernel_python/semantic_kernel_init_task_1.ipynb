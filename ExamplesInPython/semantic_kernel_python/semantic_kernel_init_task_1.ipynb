{
 "cells": [
  {
   "cell_type": "code",
   "id": "initial_id",
   "metadata": {
    "collapsed": true,
    "ExecuteTime": {
     "end_time": "2024-07-24T07:39:22.594380Z",
     "start_time": "2024-07-24T07:39:22.583575Z"
    }
   },
   "source": [
    "import os\n",
    "from dotenv import load_dotenv\n",
    "import semantic_kernel as sk\n",
    "from semantic_kernel.connectors.ai.open_ai import AzureChatCompletion, OpenAIChatCompletion\n",
    "\n",
    "# load env variables from .env file\n",
    "load_dotenv()\n",
    "\n",
    "# Retrieve environment variables\n",
    "deployment = os.getenv('AZURE_OPENAI_DEPLOYMENT')\n",
    "api_key = os.getenv('AZURE_OPENAI_API_KEY')\n",
    "endpoint = os.getenv('AZURE_OPENAI_ENDPOINT')\n",
    "\n",
    "if not all([deployment, api_key, endpoint]):\n",
    "    raise ValueError(\"Not all environment variables are set properly\")\n",
    "\n",
    "kernel = sk.Kernel()\n",
    "\n",
    "# Remove all services to allow reconfiguration\n",
    "kernel.remove_all_services()\n",
    "\n",
    "# Configure and add Azure OpenAI service\n",
    "service_id = \"azure_chat_completion_service_id\"\n",
    "azure_chat_completion = AzureChatCompletion(\n",
    "    service_id=service_id,\n",
    "    deployment_name=deployment,\n",
    "    api_key=api_key,\n",
    "    endpoint=endpoint\n",
    ")\n",
    "\n",
    "kernel.add_service(azure_chat_completion)\n",
    "\n",
    "print(deployment)\n",
    "print(f\"Kernel configured successfully with service ID: {service_id}\")\n"
   ],
   "outputs": [
    {
     "name": "stdout",
     "output_type": "stream",
     "text": [
      "gpt4o-deployment-swedencentral\n",
      "Kernel configured successfully with service ID: azure_chat_completion_service_id\n"
     ]
    }
   ],
   "execution_count": 25
  },
  {
   "metadata": {
    "ExecuteTime": {
     "end_time": "2024-07-24T07:39:25.056241Z",
     "start_time": "2024-07-24T07:39:25.052636Z"
    }
   },
   "cell_type": "code",
   "source": [
    "# Function attributes \n",
    "# They are usually defined in a JSON file. \n",
    "# However, since we're creating the plugin within the Jupyter notebook, we define it directly as a Python dictionary.\n",
    "function_attributes = {\n",
    "    \"greet\": {\n",
    "        \"prompt_file\": \"greet.txt\",\n",
    "        \"parameters\": [\n",
    "            {\"name\": \"name\", \"type\": \"string\"}\n",
    "        ],\n",
    "        \"returns\": {\"type\": \"string\"}\n",
    "    }\n",
    "}\n",
    "\n",
    "# Define Your Prompt Template: Prompt templates are usually stored in separate text files. \n",
    "# Since we're creating the plugin within the Jupyter notebook, we can define it directly as a Python string.\n",
    "prompt_template = \"Hello, {name}!\""
   ],
   "id": "dee77e72c59cbb56",
   "outputs": [],
   "execution_count": 26
  },
  {
   "metadata": {
    "ExecuteTime": {
     "end_time": "2024-07-24T07:39:29.772327Z",
     "start_time": "2024-07-24T07:39:29.769453Z"
    }
   },
   "cell_type": "code",
   "source": [
    "# Define the Plugin\n",
    "class MyFirstPlugin:\n",
    "    def __init__(self, inserted_function_attributes, prompt_templates):\n",
    "        self.function_attributes = inserted_function_attributes\n",
    "        self.prompt_templates = prompt_templates\n",
    "\n",
    "    def greet(self, name):\n",
    "        return self.prompt_templates['greet'].format(name=name)"
   ],
   "id": "a8083d19793aa7d3",
   "outputs": [],
   "execution_count": 27
  },
  {
   "metadata": {
    "ExecuteTime": {
     "end_time": "2024-07-24T07:39:31.933876Z",
     "start_time": "2024-07-24T07:39:31.928967Z"
    }
   },
   "cell_type": "code",
   "source": [
    "# Initialize your plugin with the function attributes and prompt templates\n",
    "initialized_my_first_plugin = MyFirstPlugin(function_attributes, {'greet': prompt_template})\n",
    "\n",
    "# Add your plugin to the kernel\n",
    "kernel.add_plugin(initialized_my_first_plugin, plugin_name=\"MyFirstPlugin\")"
   ],
   "id": "263afa58d46ae554",
   "outputs": [
    {
     "data": {
      "text/plain": [
       "KernelPlugin(name='MyFirstPlugin', description=None, functions={})"
      ]
     },
     "execution_count": 28,
     "metadata": {},
     "output_type": "execute_result"
    }
   ],
   "execution_count": 28
  },
  {
   "metadata": {
    "ExecuteTime": {
     "end_time": "2024-07-24T07:39:41.631270Z",
     "start_time": "2024-07-24T07:39:41.591273Z"
    }
   },
   "cell_type": "code",
   "source": [
    "from semantic_kernel.functions import KernelArguments\n",
    "\n",
    "# Retrieve the greet function from your plugin\n",
    "greet_function = kernel.get_plugin(\"MyFirstPlugin\")['greet']\n",
    "\n",
    "# Invoke the greet function\n",
    "greeting = kernel.invoke(greet_function, KernelArguments(name=\"Alice\"))\n",
    "\n",
    "print(greeting)"
   ],
   "id": "7bad6daa15995362",
   "outputs": [
    {
     "ename": "KeyError",
     "evalue": "'greet'",
     "output_type": "error",
     "traceback": [
      "\u001B[0;31m---------------------------------------------------------------------------\u001B[0m",
      "\u001B[0;31mKeyError\u001B[0m                                  Traceback (most recent call last)",
      "Cell \u001B[0;32mIn[29], line 4\u001B[0m\n\u001B[1;32m      1\u001B[0m \u001B[38;5;28;01mfrom\u001B[39;00m \u001B[38;5;21;01msemantic_kernel\u001B[39;00m\u001B[38;5;21;01m.\u001B[39;00m\u001B[38;5;21;01mfunctions\u001B[39;00m \u001B[38;5;28;01mimport\u001B[39;00m KernelArguments\n\u001B[1;32m      3\u001B[0m \u001B[38;5;66;03m# Retrieve the greet function from your plugin\u001B[39;00m\n\u001B[0;32m----> 4\u001B[0m greet_function \u001B[38;5;241m=\u001B[39m \u001B[43mkernel\u001B[49m\u001B[38;5;241;43m.\u001B[39;49m\u001B[43mget_plugin\u001B[49m\u001B[43m(\u001B[49m\u001B[38;5;124;43m\"\u001B[39;49m\u001B[38;5;124;43mMyFirstPlugin\u001B[39;49m\u001B[38;5;124;43m\"\u001B[39;49m\u001B[43m)\u001B[49m\u001B[43m[\u001B[49m\u001B[38;5;124;43m'\u001B[39;49m\u001B[38;5;124;43mgreet\u001B[39;49m\u001B[38;5;124;43m'\u001B[39;49m\u001B[43m]\u001B[49m\n\u001B[1;32m      6\u001B[0m \u001B[38;5;66;03m# Invoke the greet function\u001B[39;00m\n\u001B[1;32m      7\u001B[0m greeting \u001B[38;5;241m=\u001B[39m kernel\u001B[38;5;241m.\u001B[39minvoke(greet_function, KernelArguments(name\u001B[38;5;241m=\u001B[39m\u001B[38;5;124m\"\u001B[39m\u001B[38;5;124mAlice\u001B[39m\u001B[38;5;124m\"\u001B[39m))\n",
      "File \u001B[0;32m~/Documents/EPAM/ExamAndEducation/OpenAI-and-ChatGPT-meet-.Net/ExamplesInPython/semantic_kernel_python/.venv/lib/python3.9/site-packages/semantic_kernel/functions/kernel_plugin.py:154\u001B[0m, in \u001B[0;36mKernelPlugin.__getitem__\u001B[0;34m(self, key)\u001B[0m\n\u001B[1;32m    153\u001B[0m \u001B[38;5;28;01mdef\u001B[39;00m \u001B[38;5;21m__getitem__\u001B[39m(\u001B[38;5;28mself\u001B[39m, key: \u001B[38;5;28mstr\u001B[39m) \u001B[38;5;241m-\u001B[39m\u001B[38;5;241m>\u001B[39m KernelFunction:\n\u001B[0;32m--> 154\u001B[0m     \u001B[38;5;28;01mreturn\u001B[39;00m \u001B[38;5;28;43mself\u001B[39;49m\u001B[38;5;241;43m.\u001B[39;49m\u001B[43mfunctions\u001B[49m\u001B[43m[\u001B[49m\u001B[43mkey\u001B[49m\u001B[43m]\u001B[49m\n",
      "\u001B[0;31mKeyError\u001B[0m: 'greet'"
     ]
    }
   ],
   "execution_count": 29
  },
  {
   "metadata": {},
   "cell_type": "code",
   "outputs": [],
   "execution_count": null,
   "source": "",
   "id": "243137d14184c143"
  }
 ],
 "metadata": {
  "kernelspec": {
   "display_name": "Python 3",
   "language": "python",
   "name": "python3"
  },
  "language_info": {
   "codemirror_mode": {
    "name": "ipython",
    "version": 2
   },
   "file_extension": ".py",
   "mimetype": "text/x-python",
   "name": "python",
   "nbconvert_exporter": "python",
   "pygments_lexer": "ipython2",
   "version": "2.7.6"
  }
 },
 "nbformat": 4,
 "nbformat_minor": 5
}
