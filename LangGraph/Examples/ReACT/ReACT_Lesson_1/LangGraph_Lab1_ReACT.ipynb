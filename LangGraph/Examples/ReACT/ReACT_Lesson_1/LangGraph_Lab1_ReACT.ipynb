{
 "cells": [
  {
   "metadata": {},
   "cell_type": "markdown",
   "source": [
    "# This is Lesson_1 Jupyter Notebook\n",
    "\n",
    "Below is an example of a simple Agent with some manually triggered functions in order to understand how it really acts.\n",
    "\n",
    "The Part_1 of the Notebook is about Agent initialization and how it can act together with some manually done work we do for it.\n",
    "The Part_2 of the Notebook is about how to use the Agent with the ReACT pattern.\n"
   ],
   "id": "71cfb6a9faa33efa"
  },
  {
   "metadata": {
    "ExecuteTime": {
     "end_time": "2025-06-01T10:32:43.983325Z",
     "start_time": "2025-06-01T10:32:43.981172Z"
    }
   },
   "cell_type": "code",
   "source": "# based on https://til.simonwillison.net/llms/python-react-pattern",
   "id": "fbc121e30a2defb3",
   "outputs": [],
   "execution_count": 5
  },
  {
   "metadata": {
    "ExecuteTime": {
     "end_time": "2025-06-01T11:26:01.719466Z",
     "start_time": "2025-06-01T11:26:01.714802Z"
    }
   },
   "cell_type": "code",
   "source": [
    "#\n",
    "# Part_1: Agent Initialization and Manual Function Calls\n",
    "#\n",
    "\n",
    "import openai\n",
    "import re\n",
    "import httpx\n",
    "import os\n",
    "from dotenv import load_dotenv\n",
    "import os\n",
    "import json\n",
    "\n",
    "\n",
    "_ = load_dotenv()\n",
    "\n",
    "# ensure the environment variable is set\n",
    "print(\"OPENAI_API_KEY is loaded from .env file:\", os.getenv(\"OPENAI_API_KEY\") is not None)\n",
    "\n",
    "from openai import OpenAI"
   ],
   "id": "9d664d5ec03166c3",
   "outputs": [
    {
     "name": "stdout",
     "output_type": "stream",
     "text": [
      "OPENAI_API_KEY is loaded from .env file: True\n"
     ]
    }
   ],
   "execution_count": 46
  },
  {
   "metadata": {
    "ExecuteTime": {
     "end_time": "2025-06-01T10:36:16.253719Z",
     "start_time": "2025-06-01T10:36:16.222966Z"
    }
   },
   "cell_type": "code",
   "source": "client = OpenAI()",
   "id": "65949956f6199193",
   "outputs": [],
   "execution_count": 30
  },
  {
   "metadata": {
    "ExecuteTime": {
     "end_time": "2025-06-01T10:36:26.613667Z",
     "start_time": "2025-06-01T10:36:25.194839Z"
    }
   },
   "cell_type": "code",
   "source": [
    "# needed here just to make sure the client is initialized and working\n",
    "chat_completion = client.chat.completions.create(\n",
    "    model=\"gpt-3.5-turbo\",\n",
    "    messages=[{\"role\": \"user\", \"content\": \"Hello world\"}]\n",
    ")"
   ],
   "id": "d71d7e10affcdc8e",
   "outputs": [],
   "execution_count": 31
  },
  {
   "metadata": {
    "ExecuteTime": {
     "end_time": "2025-06-01T10:36:28.447971Z",
     "start_time": "2025-06-01T10:36:28.444928Z"
    }
   },
   "cell_type": "code",
   "source": [
    "# needed here just to make sure the client is initialized and working\n",
    "chat_completion.choices[0].message.content"
   ],
   "id": "c5e47e4532168317",
   "outputs": [
    {
     "data": {
      "text/plain": [
       "'Hello! How can I assist you today?'"
      ]
     },
     "execution_count": 32,
     "metadata": {},
     "output_type": "execute_result"
    }
   ],
   "execution_count": 32
  },
  {
   "metadata": {
    "ExecuteTime": {
     "end_time": "2025-06-01T11:00:20.410531Z",
     "start_time": "2025-06-01T11:00:20.406760Z"
    }
   },
   "cell_type": "code",
   "source": [
    "class Agent:\n",
    "    # agent can be parameterized using system message\n",
    "    # so it allows user to pass a system message to the agent\n",
    "    # The 'self' concept in Python is indeed similar to this in C#, but there are some key differences that make it more explicit.\n",
    "    #\n",
    "    # \"Magic Method\",\n",
    "    # agent = Agent(\"system prompt\")  --> Calls __init__\n",
    "    def __init__(self, system=\"\"):\n",
    "        # we store the system message and initialize the messages list\n",
    "        self.system = system # 'self' is REQUIRED\n",
    "        self.messages = []   # 'self' is REQUIRED\n",
    "        if self.system:\n",
    "            # put the system message users provided as a system prompt piece\n",
    "            self.messages.append({\"role\": \"system\", \"content\": system})\n",
    "\n",
    "    # append the message to the existing message array as user's input\n",
    "    #\n",
    "    # \"Magic Method\"\n",
    "    # agent = Agent(\"system prompt\")\n",
    "    # result = agent(\"Hello\")            # Calls __call__\n",
    "    def __call__(self, message):\n",
    "        self.messages.append({\"role\": \"user\", \"content\": message})\n",
    "\n",
    "        # Unlike C#, Python doesn't assume you're referring to instance members\n",
    "        # result = execute()      # ❌ Error - function not found\n",
    "        # result = self.execute() # ✅ Calls instance method\n",
    "        result = self.execute()   # Instance method call\n",
    "        self.messages.append({\"role\": \"assistant\", \"content\": result})\n",
    "        return result\n",
    "\n",
    "    # _method (single underscore) - \"Internal/Protected\"\n",
    "    # execute is a public method to execute the agent's logic\n",
    "    def execute(self):\n",
    "        # Must use 'self' to access instance variables/methods\n",
    "        completion = client.chat.completions.create(\n",
    "                        model=\"gpt-4o\",\n",
    "                        temperature=0, # will make the output deterministic\n",
    "                        messages=self.messages)\n",
    "        return completion.choices[0].message.content"
   ],
   "id": "5291e132296cf7ad",
   "outputs": [],
   "execution_count": 35
  },
  {
   "metadata": {
    "ExecuteTime": {
     "end_time": "2025-06-01T11:11:22.461914Z",
     "start_time": "2025-06-01T11:11:22.459495Z"
    }
   },
   "cell_type": "code",
   "source": [
    "## Agentic Prompt. It is very specific to the ReACT pattern and the task.\n",
    "#  I specify it in the Jupyter notebook cell.\n",
    "\n",
    "system_prompt = \"\"\"\n",
    "You run in a loop of Thought, Action, PAUSE, Observation.\n",
    "At the end of the loop you output an Answer\n",
    "Use Thought to describe your thoughts about the question you have been asked.\n",
    "Use Action to run one of the actions available to you - then return PAUSE.\n",
    "Observation will be the result of running those actions.\n",
    "\n",
    "Your available actions are:\n",
    "\n",
    "calculate:\n",
    "e.g. calculate: 4 * 7 / 3\n",
    "Runs a calculation and returns the number - uses Python so be sure to use floating point syntax if necessary\n",
    "\n",
    "average_dog_weight:\n",
    "e.g. average_dog_weight: Collie\n",
    "returns average weight of a dog when given the breed\n",
    "\n",
    "Example session:\n",
    "\n",
    "Question: How much does a Bulldog weigh?\n",
    "Thought: I should look the dogs weight using average_dog_weight\n",
    "Action: average_dog_weight: Bulldog\n",
    "PAUSE\n",
    "\n",
    "You will be called again with this:\n",
    "\n",
    "Observation: A Bulldog weights 51 lbs\n",
    "\n",
    "You then output:\n",
    "\n",
    "Answer: A bulldog weights 51 lbs\n",
    "\"\"\".strip()"
   ],
   "id": "205d20366c86f81d",
   "outputs": [],
   "execution_count": 37
  },
  {
   "metadata": {
    "ExecuteTime": {
     "end_time": "2025-06-01T11:11:25.116533Z",
     "start_time": "2025-06-01T11:11:25.113534Z"
    }
   },
   "cell_type": "code",
   "source": [
    "# module-level functions in the Jupyter cell, not methods of the Agent class.\n",
    "# These are standalone functions (not part of any class)\n",
    "def calculate(what):           # Function in Jupyter cell\n",
    "    return eval(what)\n",
    "\n",
    "# Function in Jupyter cell\n",
    "def average_dog_weight(name):\n",
    "    if name in \"Scottish Terrier\":\n",
    "        return \"Scottish Terriers average 20 lbs\"\n",
    "    elif name in \"Border Collie\":\n",
    "        return \"a Border Collies average weight is 37 lbs\"\n",
    "    elif name in \"Toy Poodle\":\n",
    "        return \"a toy poodles average weight is 7 lbs\"\n",
    "    else:\n",
    "        return \"An average dog weights 50 lbs\"\n",
    "\n",
    "# This is a dictionary variable in Jupyter cell\n",
    "known_actions = {\n",
    "    \"calculate\": calculate,\n",
    "    \"average_dog_weight\": average_dog_weight\n",
    "}"
   ],
   "id": "9912beee17b2cbfc",
   "outputs": [],
   "execution_count": 38
  },
  {
   "metadata": {
    "ExecuteTime": {
     "end_time": "2025-06-01T11:11:28.129565Z",
     "start_time": "2025-06-01T11:11:27.054528Z"
    }
   },
   "cell_type": "code",
   "source": [
    "# let's create an instance of the Agent class with the prompt\n",
    "# and execute the agent with a question.\n",
    "# system_prompt is specified above.\n",
    "abot = Agent(system_prompt)\n",
    "\n",
    "result = abot(\"How much does a toy poodle weigh?\")\n",
    "\n",
    "# In print here we send back what our Agent thinks.\n",
    "print(result)"
   ],
   "id": "63707389df6017b7",
   "outputs": [
    {
     "name": "stdout",
     "output_type": "stream",
     "text": [
      "Thought: I should look up the average weight of a Toy Poodle using the average_dog_weight action.\n",
      "Action: average_dog_weight: Toy Poodle\n",
      "PAUSE\n"
     ]
    }
   ],
   "execution_count": 39
  },
  {
   "metadata": {
    "ExecuteTime": {
     "end_time": "2025-06-01T11:15:13.755083Z",
     "start_time": "2025-06-01T11:15:13.753196Z"
    }
   },
   "cell_type": "code",
   "source": [
    "# right now we manually call the function in order to get the dog's weight\n",
    "# we use Toy Poodle because previously we asked the agent about it.\n",
    "result = average_dog_weight(\"Toy Poodle\")\n",
    "print(result)"
   ],
   "id": "e10a983a8cda08fd",
   "outputs": [
    {
     "name": "stdout",
     "output_type": "stream",
     "text": [
      "a toy poodles average weight is 7 lbs\n"
     ]
    }
   ],
   "execution_count": 40
  },
  {
   "metadata": {
    "ExecuteTime": {
     "end_time": "2025-06-01T11:17:29.519318Z",
     "start_time": "2025-06-01T11:17:29.516515Z"
    }
   },
   "cell_type": "code",
   "source": [
    "# we prepare the next prompt for the agent adding result of the previous action we called manually\n",
    "next_prompt = \"Observation: {}\".format(result)\n",
    "print(next_prompt)"
   ],
   "id": "9bda5dc2d417d77a",
   "outputs": [
    {
     "name": "stdout",
     "output_type": "stream",
     "text": [
      "Observation: a toy poodles average weight is 7 lbs\n"
     ]
    }
   ],
   "execution_count": 42
  },
  {
   "metadata": {
    "ExecuteTime": {
     "end_time": "2025-06-01T11:21:57.772512Z",
     "start_time": "2025-06-01T11:21:56.844011Z"
    }
   },
   "cell_type": "code",
   "source": [
    "# call the agent again with the prompt we constructed above with Toy Poodle weight\n",
    "# in simple words we just merge our manual call with the agent's logic\n",
    "abot(next_prompt)"
   ],
   "id": "2a7b04cf3b0feb34",
   "outputs": [
    {
     "data": {
      "text/plain": [
       "'Answer: A Toy Poodle weighs an average of 7 lbs.'"
      ]
     },
     "execution_count": 43,
     "metadata": {},
     "output_type": "execute_result"
    }
   ],
   "execution_count": 43
  },
  {
   "metadata": {
    "ExecuteTime": {
     "end_time": "2025-06-01T11:26:56.711527Z",
     "start_time": "2025-06-01T11:26:56.709145Z"
    }
   },
   "cell_type": "code",
   "source": [
    "# Pretty print with indentation\n",
    "# show what messages the Agent has\n",
    "print(json.dumps(abot.messages, indent=2))"
   ],
   "id": "df835845b16f8e32",
   "outputs": [
    {
     "name": "stdout",
     "output_type": "stream",
     "text": [
      "[\n",
      "  {\n",
      "    \"role\": \"system\",\n",
      "    \"content\": \"You run in a loop of Thought, Action, PAUSE, Observation.\\nAt the end of the loop you output an Answer\\nUse Thought to describe your thoughts about the question you have been asked.\\nUse Action to run one of the actions available to you - then return PAUSE.\\nObservation will be the result of running those actions.\\n\\nYour available actions are:\\n\\ncalculate:\\ne.g. calculate: 4 * 7 / 3\\nRuns a calculation and returns the number - uses Python so be sure to use floating point syntax if necessary\\n\\naverage_dog_weight:\\ne.g. average_dog_weight: Collie\\nreturns average weight of a dog when given the breed\\n\\nExample session:\\n\\nQuestion: How much does a Bulldog weigh?\\nThought: I should look the dogs weight using average_dog_weight\\nAction: average_dog_weight: Bulldog\\nPAUSE\\n\\nYou will be called again with this:\\n\\nObservation: A Bulldog weights 51 lbs\\n\\nYou then output:\\n\\nAnswer: A bulldog weights 51 lbs\"\n",
      "  },\n",
      "  {\n",
      "    \"role\": \"user\",\n",
      "    \"content\": \"How much does a toy poodle weigh?\"\n",
      "  },\n",
      "  {\n",
      "    \"role\": \"assistant\",\n",
      "    \"content\": \"Thought: I should look up the average weight of a Toy Poodle using the average_dog_weight action.\\nAction: average_dog_weight: Toy Poodle\\nPAUSE\"\n",
      "  },\n",
      "  {\n",
      "    \"role\": \"user\",\n",
      "    \"content\": \"Observation: a toy poodles average weight is 7 lbs\"\n",
      "  },\n",
      "  {\n",
      "    \"role\": \"assistant\",\n",
      "    \"content\": \"Answer: A Toy Poodle weighs an average of 7 lbs.\"\n",
      "  }\n",
      "]\n"
     ]
    }
   ],
   "execution_count": 49
  },
  {
   "metadata": {},
   "cell_type": "code",
   "outputs": [],
   "execution_count": null,
   "source": [
    "#\n",
    "# Part_2: Using the Agent with ReACT Pattern.\n",
    "#"
   ],
   "id": "9990a91093436bc7"
  }
 ],
 "metadata": {
  "kernelspec": {
   "display_name": "Python 3",
   "language": "python",
   "name": "python3"
  },
  "language_info": {
   "codemirror_mode": {
    "name": "ipython",
    "version": 2
   },
   "file_extension": ".py",
   "mimetype": "text/x-python",
   "name": "python",
   "nbconvert_exporter": "python",
   "pygments_lexer": "ipython2",
   "version": "2.7.6"
  }
 },
 "nbformat": 4,
 "nbformat_minor": 5
}
