{
 "cells": [
  {
   "cell_type": "code",
   "execution_count": 13,
   "metadata": {
    "dotnet_interactive": {
     "language": "csharp"
    },
    "polyglot_notebook": {
     "kernelName": "csharp"
    },
    "vscode": {
     "languageId": "polyglot-notebook"
    }
   },
   "outputs": [],
   "source": [
    "#!import config/Settings.cs"
   ]
  },
  {
   "cell_type": "code",
   "execution_count": 14,
   "metadata": {
    "dotnet_interactive": {
     "language": "csharp"
    },
    "polyglot_notebook": {
     "kernelName": "csharp"
    },
    "vscode": {
     "languageId": "polyglot-notebook"
    }
   },
   "outputs": [
    {
     "data": {
      "text/html": [
       "<div><div></div><div></div><div><strong>Installed Packages</strong><ul><li><span>Microsoft.SemanticKernel, 1.0.0-rc3</span></li></ul></div></div>"
      ]
     },
     "metadata": {},
     "output_type": "display_data"
    }
   ],
   "source": [
    "// Import Semantic Kernel\n",
    "#r \"nuget: Microsoft.SemanticKernel, 1.0.0-rc3\""
   ]
  },
  {
   "cell_type": "markdown",
   "metadata": {},
   "source": [
    "# 2.1 🚀 Initialization and Configuration\n",
    "\n",
    "* In this section, libraries are imported, and OpenAI services are configured. The KernelBuilder is initialized to set up the Semantic Kernel. OpenAI models, including GPT-3.5 Turbo and GPT-4 32K, are loaded with their associated API keys and endpoints. Finally, the Semantic Kernel is built using the configured settings."
   ]
  },
  {
   "cell_type": "code",
   "execution_count": 15,
   "metadata": {
    "dotnet_interactive": {
     "language": "csharp"
    },
    "polyglot_notebook": {
     "kernelName": "csharp"
    },
    "vscode": {
     "languageId": "polyglot-notebook"
    }
   },
   "outputs": [],
   "source": [
    "using Microsoft.SemanticKernel;\n",
    "\n",
    "var builder = new KernelBuilder();"
   ]
  },
  {
   "cell_type": "code",
   "execution_count": 16,
   "metadata": {
    "dotnet_interactive": {
     "language": "csharp"
    },
    "polyglot_notebook": {
     "kernelName": "csharp"
    },
    "vscode": {
     "languageId": "polyglot-notebook"
    }
   },
   "outputs": [],
   "source": [
    "// Loading models and setting up OpenAI chat completion services\n",
    "var (model1, azureEndpoint1, apiKey1, gpt35TurboServiceId) = Settings.LoadFromFile(model: \"gpt-35-turbo\");\n",
    "builder.AddAzureOpenAIChatCompletion(model1, model1, azureEndpoint1, apiKey1, serviceId: gpt35TurboServiceId);\n",
    "\n",
    "var (model2, azureEndpoint2, apiKey2, gpt4ServiceId) = Settings.LoadFromFile(model: \"gpt-4-32k\");\n",
    "builder.AddAzureOpenAIChatCompletion(model2, model2, azureEndpoint2, apiKey2, serviceId: gpt4ServiceId);\n",
    "\n",
    "var kernel = builder.Build();"
   ]
  },
  {
   "cell_type": "markdown",
   "metadata": {},
   "source": [
    "# 2.2. 🚀 Semantic Kernel Pipeline: Calling Chain of Functions\n",
    "\n",
    "* The pipeline begins by defining prompts for functions, including requests to find top books in world history and to translate text. Functions are then created based on these prompts. The pipeline is organized by specifying the order in which functions will be executed.\n"
   ]
  },
  {
   "cell_type": "code",
   "execution_count": 17,
   "metadata": {
    "dotnet_interactive": {
     "language": "csharp"
    },
    "polyglot_notebook": {
     "kernelName": "csharp"
    },
    "vscode": {
     "languageId": "polyglot-notebook"
    }
   },
   "outputs": [],
   "source": [
    "// Prompts initialization\n",
    "string findBooksPrompt = @\"I would sincerely appreciate your assistance in curating a list of the top {{$BooksNumber}} books that explore the fascinating realm of world history. \n",
    "It would be especially helpful if you could suggest books from the period {{$YearFrom}} to {{$YearTo}}. Show just Name and Author.\";\n",
    "\n",
    "string translatePrompt = \"Your linguistic expertise is highly valued. Please translate the following text into {{$Lang}}. TEXT: {{$Input}}\";"
   ]
  },
  {
   "cell_type": "code",
   "execution_count": 18,
   "metadata": {
    "dotnet_interactive": {
     "language": "csharp"
    },
    "polyglot_notebook": {
     "kernelName": "csharp"
    },
    "vscode": {
     "languageId": "polyglot-notebook"
    }
   },
   "outputs": [],
   "source": [
    "// Create function for finding top books in world history\n",
    "KernelFunction findBooksFunction = kernel.CreateFunctionFromPrompt(\n",
    "    findBooksPrompt,\n",
    "    functionName: \"TopBooks\",\n",
    "    description: \"Retrieves a curated list of top books on world history within a specified time period.\");\n",
    "\n",
    "// Create function for translating text\n",
    "KernelFunction translateFunction = kernel.CreateFunctionFromPrompt(\n",
    "    translatePrompt,\n",
    "    functionName: \"Translate\",\n",
    "    description: \"Translates the provided text into the specified language.\");\n"
   ]
  },
  {
   "cell_type": "code",
   "execution_count": 19,
   "metadata": {
    "dotnet_interactive": {
     "language": "csharp"
    },
    "polyglot_notebook": {
     "kernelName": "csharp"
    },
    "vscode": {
     "languageId": "polyglot-notebook"
    }
   },
   "outputs": [],
   "source": [
    "// Set up a pipeline of functions to be executed\n",
    "var pipeline = new KernelFunction[]\n",
    "{\n",
    "    findBooksFunction,\n",
    "    translateFunction\n",
    "};"
   ]
  },
  {
   "cell_type": "markdown",
   "metadata": {},
   "source": [
    "# 2.3. 🚀 Function Arguments\n",
    "\n",
    "* This module focuses on setting up specific arguments required for function execution. Parameters such as the number of books, date range, and target language for translation are defined to tailor the behavior of the functions.\n"
   ]
  },
  {
   "cell_type": "code",
   "execution_count": 20,
   "metadata": {
    "dotnet_interactive": {
     "language": "csharp"
    },
    "polyglot_notebook": {
     "kernelName": "csharp"
    },
    "vscode": {
     "languageId": "polyglot-notebook"
    }
   },
   "outputs": [],
   "source": [
    "using Microsoft.SemanticKernel.Connectors.AI.OpenAI;\n",
    "\n",
    "// Set execution settings for OpenAI service\n",
    "KernelArguments arguments = new KernelArguments\n",
    "{\n",
    "    ExecutionSettings = new OpenAIPromptExecutionSettings\n",
    "    {\n",
    "        ServiceId = gpt35TurboServiceId,\n",
    "        Temperature = 0\n",
    "    }\n",
    "};\n",
    "\n",
    "// Set specific arguments for the findBooks function\n",
    "arguments.Add(\"BooksNumber\", \"3\");\n",
    "arguments.Add(\"YearFrom\", \"1950\");\n",
    "arguments.Add(\"YearTo\", \"1960\");\n",
    "\n",
    "// Set specific aguments for the translate function\n",
    "arguments.Add(\"Lang\", \"Italian\");"
   ]
  },
  {
   "cell_type": "markdown",
   "metadata": {},
   "source": [
    "# 2.4. 🚀 Event Handlers\n",
    "\n",
    "* Event handlers are established to capture and respond to events during Semantic Kernel execution. These handlers cover prompt rendering, prompt rendered, function invoking, and function invoked events, providing insights into the execution flow.\n"
   ]
  },
  {
   "cell_type": "code",
   "execution_count": 21,
   "metadata": {
    "dotnet_interactive": {
     "language": "csharp"
    },
    "polyglot_notebook": {
     "kernelName": "csharp"
    },
    "vscode": {
     "languageId": "polyglot-notebook"
    }
   },
   "outputs": [],
   "source": [
    "using Microsoft.SemanticKernel.Events;\n",
    "\n",
    "kernel.FunctionInvoking += Kernel_FunctionInvoking;\n",
    "kernel.FunctionInvoked += Kernel_FunctionInvoked;\n",
    "kernel.PromptRendering += Kernel_PromptRendering;\n",
    "kernel.PromptRendered += Kernel_PromptRendered;\n",
    "\n",
    "// Define event handlers\n",
    "void Kernel_PromptRendering(object? sender, PromptRenderingEventArgs e)\n",
    "{\n",
    "    Console.WriteLine($\"[PromptRendering]: \\n\\t // {e.Function.Description} \\n\\t {e.Function.Name} ({string.Join(\":\", e.Arguments)})\");\n",
    "}\n",
    "\n",
    "void Kernel_PromptRendered(object? sender, PromptRenderedEventArgs e)\n",
    "{\n",
    "    Console.WriteLine($\"[PromptRendered]: \\n\\t{e.RenderedPrompt}\");\n",
    "}\n",
    "\n",
    "void Kernel_FunctionInvoking(object? sender, FunctionInvokingEventArgs e)\n",
    "{\n",
    "    Console.WriteLine($\"[FunctionInvoking]: \\n\\t // {e.Function.Description} \\n\\t {e.Function.Name} ({string.Join(\":\", e.Arguments)})\");\n",
    "}\n",
    "\n",
    "void Kernel_FunctionInvoked(object? sender, FunctionInvokedEventArgs e)\n",
    "{\n",
    "    Console.WriteLine($\"[FunctionInvoked]: \\n\\t {e.Function.Name}\");\n",
    "}"
   ]
  },
  {
   "cell_type": "markdown",
   "metadata": {},
   "source": [
    "# 2.4. 🚀 Function Pipeline Invocation and Output\n",
    "\n",
    "* Functions in the pipeline are invoked, and the results are displayed. This section showcases the step-by-step execution of the Semantic Kernel, allowing for a better understanding of its behavior and outputs.\n"
   ]
  },
  {
   "cell_type": "code",
   "execution_count": 22,
   "metadata": {
    "dotnet_interactive": {
     "language": "csharp"
    },
    "polyglot_notebook": {
     "kernelName": "csharp"
    },
    "vscode": {
     "languageId": "polyglot-notebook"
    }
   },
   "outputs": [
    {
     "name": "stdout",
     "output_type": "stream",
     "text": [
      "[FunctionInvoking]: \n",
      "\t // Retrieves a curated list of top books on world history within a specified time period. \n",
      "\t TopBooks ([BooksNumber, 3]:[YearFrom, 1950]:[YearTo, 1960]:[Lang, Italian])\n",
      "[PromptRendering]: \n",
      "\t // Retrieves a curated list of top books on world history within a specified time period. \n",
      "\t TopBooks ([BooksNumber, 3]:[YearFrom, 1950]:[YearTo, 1960]:[Lang, Italian])\n",
      "[PromptRendered]: \n",
      "\tI would sincerely appreciate your assistance in curating a list of the top 3 books that explore the fascinating realm of world history. \n",
      "It would be especially helpful if you could suggest books from the period 1950 to 1960. Show just Name and Author.\n",
      "[FunctionInvoked]: \n",
      "\t TopBooks\n",
      "[FunctionInvoking]: \n",
      "\t // Translates the provided text into the specified language. \n",
      "\t Translate ([BooksNumber, 3]:[YearFrom, 1950]:[YearTo, 1960]:[Lang, Italian]:[Input, Finding specific books on world history published between 1950 and 1960 can be a bit challenging due to the broad nature of the topic and the specific time frame. However, here are three influential books from around that period:\n",
      "\n",
      "1. \"The Rise and Fall of the Third Reich\" by William L. Shirer (1960)\n",
      "2. \"The Guns of August\" by Barbara W. Tuchman (1962)\n",
      "3. \"A Study of History\" by Arnold J. Toynbee (1954)\n",
      "\n",
      "Please note that the publication dates for some of these books are slightly outside of your specified range, but they are still highly regarded works from roughly the same era.])\n",
      "[PromptRendering]: \n",
      "\t // Translates the provided text into the specified language. \n",
      "\t Translate ([BooksNumber, 3]:[YearFrom, 1950]:[YearTo, 1960]:[Lang, Italian]:[Input, Finding specific books on world history published between 1950 and 1960 can be a bit challenging due to the broad nature of the topic and the specific time frame. However, here are three influential books from around that period:\n",
      "\n",
      "1. \"The Rise and Fall of the Third Reich\" by William L. Shirer (1960)\n",
      "2. \"The Guns of August\" by Barbara W. Tuchman (1962)\n",
      "3. \"A Study of History\" by Arnold J. Toynbee (1954)\n",
      "\n",
      "Please note that the publication dates for some of these books are slightly outside of your specified range, but they are still highly regarded works from roughly the same era.])\n",
      "[PromptRendered]: \n",
      "\tYour linguistic expertise is highly valued. Please translate the following text into Italian. TEXT: Finding specific books on world history published between 1950 and 1960 can be a bit challenging due to the broad nature of the topic and the specific time frame. However, here are three influential books from around that period:\n",
      "\n",
      "1. \"The Rise and Fall of the Third Reich\" by William L. Shirer (1960)\n",
      "2. \"The Guns of August\" by Barbara W. Tuchman (1962)\n",
      "3. \"A Study of History\" by Arnold J. Toynbee (1954)\n",
      "\n",
      "Please note that the publication dates for some of these books are slightly outside of your specified range, but they are still highly regarded works from roughly the same era.\n",
      "[FunctionInvoked]: \n",
      "\t Translate\n"
     ]
    }
   ],
   "source": [
    "// Invoke each function in the pipeline and display the output\n",
    "var outputs = new List<string>();\n",
    "\n",
    "foreach (var item in pipeline)\n",
    "{\n",
    "    var pipelineResult = await kernel.InvokeAsync(item, arguments);\n",
    "    arguments[\"Input\"] = pipelineResult;\n",
    "    var valueAsString = pipelineResult.GetValue<string>();\n",
    "    outputs.Add($\"[{pipelineResult.Function.Name}]: {valueAsString}\");\n",
    "}"
   ]
  },
  {
   "cell_type": "code",
   "execution_count": 23,
   "metadata": {
    "dotnet_interactive": {
     "language": "csharp"
    },
    "polyglot_notebook": {
     "kernelName": "csharp"
    },
    "vscode": {
     "languageId": "polyglot-notebook"
    }
   },
   "outputs": [
    {
     "name": "stdout",
     "output_type": "stream",
     "text": [
      "[TopBooks]: Finding specific books on world history published between 1950 and 1960 can be a bit challenging due to the broad nature of the topic and the specific time frame. However, here are three influential books from around that period:\n",
      "\n",
      "1. \"The Rise and Fall of the Third Reich\" by William L. Shirer (1960)\n",
      "2. \"The Guns of August\" by Barbara W. Tuchman (1962)\n",
      "3. \"A Study of History\" by Arnold J. Toynbee (1954)\n",
      "\n",
      "Please note that the publication dates for some of these books are slightly outside of your specified range, but they are still highly regarded works from roughly the same era.\n",
      "[Translate]: Trovare libri specifici sulla storia mondiale pubblicati tra il 1950 e il 1960 può essere un po' impegnativo a causa della vastità dell'argomento e del periodo di tempo specifico. Tuttavia, ecco tre libri influenti di quel periodo:\n",
      "\n",
      "1. \"L'ascesa e la caduta del Terzo Reich\" di William L. Shirer (1960)\n",
      "2. \"Le pistole di agosto\" di Barbara W. Tuchman (1962)\n",
      "3. \"Uno studio della storia\" di Arnold J. Toynbee (1954)\n",
      "\n",
      "Si prega di notare che le date di pubblicazione di alcuni di questi libri sono leggermente fuori dal tuo intervallo specificato, ma sono comunque opere molto apprezzate dello stesso periodo approssimativo.\r\n"
     ]
    }
   ],
   "source": [
    "Console.WriteLine(string.Join(\"\\n\", outputs));"
   ]
  }
 ],
 "metadata": {
  "kernelspec": {
   "display_name": ".NET (C#)",
   "language": "C#",
   "name": ".net-csharp"
  },
  "language_info": {
   "name": "python",
   "version": "3.12.0"
  },
  "polyglot_notebook": {
   "kernelInfo": {
    "defaultKernelName": "csharp",
    "items": [
     {
      "aliases": [],
      "name": "csharp"
     }
    ]
   }
  }
 },
 "nbformat": 4,
 "nbformat_minor": 2
}
